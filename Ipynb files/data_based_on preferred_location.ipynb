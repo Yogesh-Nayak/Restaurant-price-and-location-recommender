{
 "cells": [
  {
   "cell_type": "code",
   "execution_count": 1,
   "id": "f6d4c73b",
   "metadata": {},
   "outputs": [
    {
     "data": {
      "application/javascript": [
       "\n",
       "        if (window._pyforest_update_imports_cell) { window._pyforest_update_imports_cell('import pandas as pd'); }\n",
       "    "
      ],
      "text/plain": [
       "<IPython.core.display.Javascript object>"
      ]
     },
     "metadata": {},
     "output_type": "display_data"
    },
    {
     "data": {
      "application/javascript": [
       "\n",
       "        if (window._pyforest_update_imports_cell) { window._pyforest_update_imports_cell('import pandas as pd'); }\n",
       "    "
      ],
      "text/plain": [
       "<IPython.core.display.Javascript object>"
      ]
     },
     "metadata": {},
     "output_type": "display_data"
    }
   ],
   "source": [
    "normal_form = pd.read_csv('normal_form.csv')\n",
    "restaurant_data = pd.read_csv('Output_part_1.csv')"
   ]
  },
  {
   "cell_type": "code",
   "execution_count": 2,
   "id": "e24daf33",
   "metadata": {},
   "outputs": [
    {
     "data": {
      "text/html": [
       "<div>\n",
       "<style scoped>\n",
       "    .dataframe tbody tr th:only-of-type {\n",
       "        vertical-align: middle;\n",
       "    }\n",
       "\n",
       "    .dataframe tbody tr th {\n",
       "        vertical-align: top;\n",
       "    }\n",
       "\n",
       "    .dataframe thead th {\n",
       "        text-align: right;\n",
       "    }\n",
       "</style>\n",
       "<table border=\"1\" class=\"dataframe\">\n",
       "  <thead>\n",
       "    <tr style=\"text-align: right;\">\n",
       "      <th></th>\n",
       "      <th>Restaurant_ID</th>\n",
       "      <th>Restaurant_Name</th>\n",
       "      <th>restaurant_link</th>\n",
       "      <th>cusine</th>\n",
       "      <th>Location</th>\n",
       "      <th>Latitude</th>\n",
       "      <th>Longitude</th>\n",
       "      <th>delivery_review_number</th>\n",
       "      <th>Rating</th>\n",
       "      <th>price_for_one</th>\n",
       "    </tr>\n",
       "  </thead>\n",
       "  <tbody>\n",
       "    <tr>\n",
       "      <th>0</th>\n",
       "      <td>1</td>\n",
       "      <td>Ovenstory Pizza</td>\n",
       "      <td>https://www.zomato.com/bangalore/ovenstory-piz...</td>\n",
       "      <td>pizza</td>\n",
       "      <td>indiranagar</td>\n",
       "      <td>12.978170</td>\n",
       "      <td>77.638321</td>\n",
       "      <td>5111</td>\n",
       "      <td>4.3</td>\n",
       "      <td>₹ 300</td>\n",
       "    </tr>\n",
       "    <tr>\n",
       "      <th>1</th>\n",
       "      <td>1</td>\n",
       "      <td>Ovenstory Pizza</td>\n",
       "      <td>https://www.zomato.com/bangalore/ovenstory-piz...</td>\n",
       "      <td>fast food</td>\n",
       "      <td>indiranagar</td>\n",
       "      <td>12.978170</td>\n",
       "      <td>77.638321</td>\n",
       "      <td>5111</td>\n",
       "      <td>4.3</td>\n",
       "      <td>₹ 300</td>\n",
       "    </tr>\n",
       "    <tr>\n",
       "      <th>2</th>\n",
       "      <td>2</td>\n",
       "      <td>Empire Restaurant</td>\n",
       "      <td>https://www.zomato.com/bangalore/empire-restau...</td>\n",
       "      <td>north indian</td>\n",
       "      <td>brigade road</td>\n",
       "      <td>12.967272</td>\n",
       "      <td>77.608978</td>\n",
       "      <td>3587</td>\n",
       "      <td>4.0</td>\n",
       "      <td>₹ 300</td>\n",
       "    </tr>\n",
       "    <tr>\n",
       "      <th>3</th>\n",
       "      <td>2</td>\n",
       "      <td>Empire Restaurant</td>\n",
       "      <td>https://www.zomato.com/bangalore/empire-restau...</td>\n",
       "      <td>biryani</td>\n",
       "      <td>brigade road</td>\n",
       "      <td>12.967272</td>\n",
       "      <td>77.608978</td>\n",
       "      <td>3587</td>\n",
       "      <td>4.0</td>\n",
       "      <td>₹ 300</td>\n",
       "    </tr>\n",
       "    <tr>\n",
       "      <th>4</th>\n",
       "      <td>2</td>\n",
       "      <td>Empire Restaurant</td>\n",
       "      <td>https://www.zomato.com/bangalore/empire-restau...</td>\n",
       "      <td>kebab</td>\n",
       "      <td>brigade road</td>\n",
       "      <td>12.967272</td>\n",
       "      <td>77.608978</td>\n",
       "      <td>3587</td>\n",
       "      <td>4.0</td>\n",
       "      <td>₹ 300</td>\n",
       "    </tr>\n",
       "  </tbody>\n",
       "</table>\n",
       "</div>"
      ],
      "text/plain": [
       "   Restaurant_ID    Restaurant_Name  ... Rating price_for_one\n",
       "0              1    Ovenstory Pizza  ...    4.3         ₹ 300\n",
       "1              1    Ovenstory Pizza  ...    4.3         ₹ 300\n",
       "2              2  Empire Restaurant  ...    4.0         ₹ 300\n",
       "3              2  Empire Restaurant  ...    4.0         ₹ 300\n",
       "4              2  Empire Restaurant  ...    4.0         ₹ 300\n",
       "\n",
       "[5 rows x 10 columns]"
      ]
     },
     "execution_count": 2,
     "metadata": {},
     "output_type": "execute_result"
    }
   ],
   "source": [
    "normal_form.head()"
   ]
  },
  {
   "cell_type": "code",
   "execution_count": 4,
   "id": "e2b85ccd",
   "metadata": {},
   "outputs": [
    {
     "data": {
      "text/html": [
       "<div>\n",
       "<style scoped>\n",
       "    .dataframe tbody tr th:only-of-type {\n",
       "        vertical-align: middle;\n",
       "    }\n",
       "\n",
       "    .dataframe tbody tr th {\n",
       "        vertical-align: top;\n",
       "    }\n",
       "\n",
       "    .dataframe thead th {\n",
       "        text-align: right;\n",
       "    }\n",
       "</style>\n",
       "<table border=\"1\" class=\"dataframe\">\n",
       "  <thead>\n",
       "    <tr style=\"text-align: right;\">\n",
       "      <th></th>\n",
       "      <th>name</th>\n",
       "      <th>lat</th>\n",
       "      <th>long</th>\n",
       "      <th>review</th>\n",
       "      <th>cusine</th>\n",
       "      <th>rating</th>\n",
       "      <th>price</th>\n",
       "      <th>place</th>\n",
       "    </tr>\n",
       "  </thead>\n",
       "  <tbody>\n",
       "    <tr>\n",
       "      <th>0</th>\n",
       "      <td>Ovenstory Pizza</td>\n",
       "      <td>12.978170</td>\n",
       "      <td>77.638320</td>\n",
       "      <td>5111</td>\n",
       "      <td>pizza, fast food</td>\n",
       "      <td>4.3</td>\n",
       "      <td>300</td>\n",
       "      <td>indiranagar</td>\n",
       "    </tr>\n",
       "    <tr>\n",
       "      <th>1</th>\n",
       "      <td>Empire Restaurant</td>\n",
       "      <td>12.967272</td>\n",
       "      <td>77.608976</td>\n",
       "      <td>3587</td>\n",
       "      <td>north indian, biryani, kebab, chinese, south i...</td>\n",
       "      <td>4.0</td>\n",
       "      <td>300</td>\n",
       "      <td>brigade road</td>\n",
       "    </tr>\n",
       "    <tr>\n",
       "      <th>2</th>\n",
       "      <td>Leon's Burgers &amp; Wings</td>\n",
       "      <td>12.997726</td>\n",
       "      <td>77.610958</td>\n",
       "      <td>18</td>\n",
       "      <td>burger, fast food, wraps, street food, dessert...</td>\n",
       "      <td>4.3</td>\n",
       "      <td>300</td>\n",
       "      <td>frazer town</td>\n",
       "    </tr>\n",
       "    <tr>\n",
       "      <th>3</th>\n",
       "      <td>Truffles</td>\n",
       "      <td>12.971928</td>\n",
       "      <td>77.601063</td>\n",
       "      <td>1960</td>\n",
       "      <td>burger, american, bakery, italian, oriental, c...</td>\n",
       "      <td>4.4</td>\n",
       "      <td>300</td>\n",
       "      <td>st. marks road</td>\n",
       "    </tr>\n",
       "    <tr>\n",
       "      <th>4</th>\n",
       "      <td>Domino's Pizza</td>\n",
       "      <td>12.980872</td>\n",
       "      <td>77.640593</td>\n",
       "      <td>419</td>\n",
       "      <td>pizza, fast food, desserts, beverages</td>\n",
       "      <td>4.1</td>\n",
       "      <td>300</td>\n",
       "      <td>indiranagar</td>\n",
       "    </tr>\n",
       "  </tbody>\n",
       "</table>\n",
       "</div>"
      ],
      "text/plain": [
       "                     name        lat       long  ...  rating price           place\n",
       "0         Ovenstory Pizza  12.978170  77.638320  ...     4.3   300     indiranagar\n",
       "1       Empire Restaurant  12.967272  77.608976  ...     4.0   300    brigade road\n",
       "2  Leon's Burgers & Wings  12.997726  77.610958  ...     4.3   300     frazer town\n",
       "3                Truffles  12.971928  77.601063  ...     4.4   300  st. marks road\n",
       "4          Domino's Pizza  12.980872  77.640593  ...     4.1   300     indiranagar\n",
       "\n",
       "[5 rows x 8 columns]"
      ]
     },
     "execution_count": 4,
     "metadata": {},
     "output_type": "execute_result"
    }
   ],
   "source": [
    "restaurant_data.head()"
   ]
  },
  {
   "cell_type": "code",
   "execution_count": 188,
   "id": "3222d41a",
   "metadata": {},
   "outputs": [
    {
     "name": "stdout",
     "output_type": "stream",
     "text": [
      "pizza\n",
      "200\n",
      "indiranagar\n"
     ]
    }
   ],
   "source": [
    "cuisine = input().lower().strip()\n",
    "pref = int(input())\n",
    "location = input().lower().strip()"
   ]
  },
  {
   "cell_type": "code",
   "execution_count": 190,
   "id": "2c74b0cf",
   "metadata": {},
   "outputs": [],
   "source": [
    "def pop_rest(location,cusine):\n",
    "    popular_cus = ''\n",
    "    popular_cusine = normal_form[normal_form['Location'] == location].groupby('cusine')['cusine'].count().sort_values(ascending=False)\n",
    "    popular_cusine =  popular_cusine[popular_cusine == popular_cusine.max()].index.tolist()\n",
    "    if len(popular_cusine) == 1:\n",
    "        popular_cus = popular_cusine[0]\n",
    "    else:\n",
    "        for i in popular_cusine:\n",
    "            if i not in popular_cusine[-1]:\n",
    "                popular_cus += i\n",
    "                popular_cus += ','\n",
    "            else:\n",
    "                popular_cus += i\n",
    "    \n",
    "    popular_restaurant_cusine = restaurant_data[(restaurant_data['cusine'].str.contains(cusine)) & (restaurant_data['place'] == location)].sort_values(['review','rating'],ascending= False).iloc[0][0]\n",
    "    \n",
    "    avg_price = restaurant_data['price'][restaurant_data['place'] == location]\n",
    "    \n",
    "    most_popular_restaurant = restaurant_data[restaurant_data['place'] == location].sort_values(['review','rating'],ascending=False)\n",
    "    \n",
    "    return [round(avg_price.mean(),0),popular_cus,most_popular_restaurant.iloc[0][0],most_popular_restaurant.iloc[0][4],popular_restaurant_cusine]"
   ]
  },
  {
   "cell_type": "code",
   "execution_count": 191,
   "id": "f43e5ffe",
   "metadata": {},
   "outputs": [
    {
     "data": {
      "text/plain": [
       "[211.0,\n",
       " 'north indian',\n",
       " 'BOX8 - Desi Meals',\n",
       " 'north indian, wraps, fast food, biryani, desserts, beverages',\n",
       " 'MOJO Pizza - 2X Toppings']"
      ]
     },
     "execution_count": 191,
     "metadata": {},
     "output_type": "execute_result"
    }
   ],
   "source": [
    "pop_rest(location,cuisine)"
   ]
  }
 ],
 "metadata": {
  "kernelspec": {
   "display_name": "Python 3 (ipykernel)",
   "language": "python",
   "name": "python3"
  },
  "language_info": {
   "codemirror_mode": {
    "name": "ipython",
    "version": 3
   },
   "file_extension": ".py",
   "mimetype": "text/x-python",
   "name": "python",
   "nbconvert_exporter": "python",
   "pygments_lexer": "ipython3",
   "version": "3.9.7"
  }
 },
 "nbformat": 4,
 "nbformat_minor": 5
}
