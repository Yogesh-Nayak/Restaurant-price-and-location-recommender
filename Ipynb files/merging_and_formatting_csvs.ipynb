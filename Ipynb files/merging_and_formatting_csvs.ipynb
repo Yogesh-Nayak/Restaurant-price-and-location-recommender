{
 "cells": [
  {
   "cell_type": "code",
   "execution_count": 1,
   "id": "6fdffc03",
   "metadata": {},
   "outputs": [
    {
     "data": {
      "application/javascript": [
       "\n",
       "        if (window._pyforest_update_imports_cell) { window._pyforest_update_imports_cell('import pandas as pd'); }\n",
       "    "
      ],
      "text/plain": [
       "<IPython.core.display.Javascript object>"
      ]
     },
     "metadata": {},
     "output_type": "display_data"
    },
    {
     "data": {
      "application/javascript": [
       "\n",
       "        if (window._pyforest_update_imports_cell) { window._pyforest_update_imports_cell('import pandas as pd'); }\n",
       "    "
      ],
      "text/plain": [
       "<IPython.core.display.Javascript object>"
      ]
     },
     "metadata": {},
     "output_type": "display_data"
    }
   ],
   "source": [
    "restaurant_details = pd.read_csv('restaurant_details.csv')\n",
    "restaurant_info = pd.read_csv('restaurant_info.csv')"
   ]
  },
  {
   "cell_type": "code",
   "execution_count": null,
   "id": "6bad2a95",
   "metadata": {},
   "outputs": [],
   "source": []
  },
  {
   "cell_type": "code",
   "execution_count": 2,
   "id": "e9a4e400",
   "metadata": {},
   "outputs": [],
   "source": [
    "restaurant_data = restaurant_details.merge(restaurant_info,left_index=True,right_index=True)"
   ]
  },
  {
   "cell_type": "code",
   "execution_count": 4,
   "id": "d670d2ab",
   "metadata": {
    "scrolled": true
   },
   "outputs": [
    {
     "data": {
      "text/html": [
       "<div>\n",
       "<style scoped>\n",
       "    .dataframe tbody tr th:only-of-type {\n",
       "        vertical-align: middle;\n",
       "    }\n",
       "\n",
       "    .dataframe tbody tr th {\n",
       "        vertical-align: top;\n",
       "    }\n",
       "\n",
       "    .dataframe thead th {\n",
       "        text-align: right;\n",
       "    }\n",
       "</style>\n",
       "<table border=\"1\" class=\"dataframe\">\n",
       "  <thead>\n",
       "    <tr style=\"text-align: right;\">\n",
       "      <th></th>\n",
       "      <th>name</th>\n",
       "      <th>locality</th>\n",
       "      <th>lat</th>\n",
       "      <th>long</th>\n",
       "      <th>review</th>\n",
       "      <th>rest_id</th>\n",
       "      <th>restaurant</th>\n",
       "      <th>link</th>\n",
       "      <th>cusine</th>\n",
       "      <th>rating</th>\n",
       "      <th>price</th>\n",
       "    </tr>\n",
       "  </thead>\n",
       "  <tbody>\n",
       "    <tr>\n",
       "      <th>0</th>\n",
       "      <td>Ovenstory Pizza</td>\n",
       "      <td>541, 1st Floor, Binnamangla, CMH Road, Mahadev...</td>\n",
       "      <td>12.978170</td>\n",
       "      <td>77.638320</td>\n",
       "      <td>5111</td>\n",
       "      <td>1</td>\n",
       "      <td>Ovenstory Pizza</td>\n",
       "      <td>https://www.zomato.com/bangalore/ovenstory-piz...</td>\n",
       "      <td>Pizza, Fast Food</td>\n",
       "      <td>4.3</td>\n",
       "      <td>₹300 for one</td>\n",
       "    </tr>\n",
       "    <tr>\n",
       "      <th>1</th>\n",
       "      <td>Empire Restaurant</td>\n",
       "      <td>35, Castle Street, Brigade Road, Bangalore</td>\n",
       "      <td>12.967272</td>\n",
       "      <td>77.608976</td>\n",
       "      <td>3587</td>\n",
       "      <td>2</td>\n",
       "      <td>Empire Restaurant</td>\n",
       "      <td>https://www.zomato.com/bangalore/empire-restau...</td>\n",
       "      <td>North Indian, Biryani, Kebab, Chinese, South I...</td>\n",
       "      <td>4.0</td>\n",
       "      <td>₹300 for one</td>\n",
       "    </tr>\n",
       "    <tr>\n",
       "      <th>2</th>\n",
       "      <td>Leon's Burgers &amp; Wings</td>\n",
       "      <td>90, Coles Road, Opposite Reliance Fresh, Pulke...</td>\n",
       "      <td>12.997726</td>\n",
       "      <td>77.610958</td>\n",
       "      <td>18</td>\n",
       "      <td>3</td>\n",
       "      <td>Leon's Burgers &amp; Wings</td>\n",
       "      <td>https://www.zomato.com/bangalore/leons-burgers...</td>\n",
       "      <td>Burger, Fast Food, Wraps, Street Food, Dessert...</td>\n",
       "      <td>4.3</td>\n",
       "      <td>₹300 for one</td>\n",
       "    </tr>\n",
       "    <tr>\n",
       "      <th>3</th>\n",
       "      <td>Truffles</td>\n",
       "      <td>Vasavi Complex, St. Marks Road, Bangalore</td>\n",
       "      <td>12.971928</td>\n",
       "      <td>77.601063</td>\n",
       "      <td>1960</td>\n",
       "      <td>4</td>\n",
       "      <td>Truffles</td>\n",
       "      <td>https://www.zomato.com/bangalore/truffles-2-st...</td>\n",
       "      <td>Burger, American, Bakery, Italian, Oriental, C...</td>\n",
       "      <td>4.4</td>\n",
       "      <td>₹300 for one</td>\n",
       "    </tr>\n",
       "    <tr>\n",
       "      <th>4</th>\n",
       "      <td>Domino's Pizza</td>\n",
       "      <td>308, 2nd Stage, 100 Feet Road, Indiranagar, Ba...</td>\n",
       "      <td>12.980872</td>\n",
       "      <td>77.640593</td>\n",
       "      <td>419</td>\n",
       "      <td>5</td>\n",
       "      <td>Domino's Pizza</td>\n",
       "      <td>https://www.zomato.com/bangalore/dominos-pizza...</td>\n",
       "      <td>Pizza, Fast Food, Desserts, Beverages</td>\n",
       "      <td>4.1</td>\n",
       "      <td>₹300 for one</td>\n",
       "    </tr>\n",
       "  </tbody>\n",
       "</table>\n",
       "</div>"
      ],
      "text/plain": [
       "                     name                                           locality  \\\n",
       "0         Ovenstory Pizza  541, 1st Floor, Binnamangla, CMH Road, Mahadev...   \n",
       "1       Empire Restaurant         35, Castle Street, Brigade Road, Bangalore   \n",
       "2  Leon's Burgers & Wings  90, Coles Road, Opposite Reliance Fresh, Pulke...   \n",
       "3                Truffles          Vasavi Complex, St. Marks Road, Bangalore   \n",
       "4          Domino's Pizza  308, 2nd Stage, 100 Feet Road, Indiranagar, Ba...   \n",
       "\n",
       "         lat       long  review  rest_id              restaurant  \\\n",
       "0  12.978170  77.638320    5111        1         Ovenstory Pizza   \n",
       "1  12.967272  77.608976    3587        2       Empire Restaurant   \n",
       "2  12.997726  77.610958      18        3  Leon's Burgers & Wings   \n",
       "3  12.971928  77.601063    1960        4                Truffles   \n",
       "4  12.980872  77.640593     419        5          Domino's Pizza   \n",
       "\n",
       "                                                link  \\\n",
       "0  https://www.zomato.com/bangalore/ovenstory-piz...   \n",
       "1  https://www.zomato.com/bangalore/empire-restau...   \n",
       "2  https://www.zomato.com/bangalore/leons-burgers...   \n",
       "3  https://www.zomato.com/bangalore/truffles-2-st...   \n",
       "4  https://www.zomato.com/bangalore/dominos-pizza...   \n",
       "\n",
       "                                              cusine rating         price  \n",
       "0                                   Pizza, Fast Food    4.3  ₹300 for one  \n",
       "1  North Indian, Biryani, Kebab, Chinese, South I...    4.0  ₹300 for one  \n",
       "2  Burger, Fast Food, Wraps, Street Food, Dessert...    4.3  ₹300 for one  \n",
       "3  Burger, American, Bakery, Italian, Oriental, C...    4.4  ₹300 for one  \n",
       "4              Pizza, Fast Food, Desserts, Beverages    4.1  ₹300 for one  "
      ]
     },
     "execution_count": 4,
     "metadata": {},
     "output_type": "execute_result"
    }
   ],
   "source": [
    "restaurant_data.head()"
   ]
  },
  {
   "cell_type": "code",
   "execution_count": null,
   "id": "dcb84b64",
   "metadata": {},
   "outputs": [],
   "source": []
  },
  {
   "cell_type": "code",
   "execution_count": 5,
   "id": "cd4f8767",
   "metadata": {},
   "outputs": [],
   "source": [
    "def price(x):\n",
    "    return int(x.split()[0][1:])\n",
    "\n",
    "def place(x):\n",
    "    return x.split(',')[-2].lower().strip()\n",
    "\n",
    "def cus(x):\n",
    "    return x.lower().strip()"
   ]
  },
  {
   "cell_type": "code",
   "execution_count": null,
   "id": "d5f1e181",
   "metadata": {},
   "outputs": [],
   "source": []
  },
  {
   "cell_type": "code",
   "execution_count": 6,
   "id": "01e98a1e",
   "metadata": {},
   "outputs": [],
   "source": [
    "restaurant_data.drop(['restaurant','rest_id','link'],axis=1,inplace=True)"
   ]
  },
  {
   "cell_type": "code",
   "execution_count": null,
   "id": "781c07b0",
   "metadata": {},
   "outputs": [],
   "source": []
  },
  {
   "cell_type": "code",
   "execution_count": 7,
   "id": "cf7b6310",
   "metadata": {},
   "outputs": [],
   "source": [
    "restaurant_data['Location'] = restaurant_data['locality'].apply(lambda x : place(x))\n",
    "restaurant_data['price'] = restaurant_data['price'].apply(lambda x : price(x))"
   ]
  },
  {
   "cell_type": "code",
   "execution_count": 8,
   "id": "104588b5",
   "metadata": {},
   "outputs": [],
   "source": [
    "restaurant_data['cusine'] = restaurant_data['cusine'].apply(lambda x : cus(x))"
   ]
  },
  {
   "cell_type": "code",
   "execution_count": null,
   "id": "38696ebc",
   "metadata": {},
   "outputs": [],
   "source": []
  },
  {
   "cell_type": "code",
   "execution_count": 9,
   "id": "152396fc",
   "metadata": {},
   "outputs": [],
   "source": [
    "restaurant_data.drop('locality',axis=1,inplace=True)"
   ]
  },
  {
   "cell_type": "code",
   "execution_count": null,
   "id": "bf777860",
   "metadata": {},
   "outputs": [],
   "source": []
  },
  {
   "cell_type": "code",
   "execution_count": 10,
   "id": "12fe1254",
   "metadata": {},
   "outputs": [],
   "source": [
    "restaurant_data.to_csv('restaurant_data.csv',index = False)"
   ]
  },
  {
   "cell_type": "code",
   "execution_count": null,
   "id": "689d279a",
   "metadata": {},
   "outputs": [],
   "source": []
  },
  {
   "cell_type": "code",
   "execution_count": 11,
   "id": "131f4f68",
   "metadata": {},
   "outputs": [
    {
     "data": {
      "application/javascript": [
       "\n",
       "        if (window._pyforest_update_imports_cell) { window._pyforest_update_imports_cell('import pandas as pd'); }\n",
       "    "
      ],
      "text/plain": [
       "<IPython.core.display.Javascript object>"
      ]
     },
     "metadata": {},
     "output_type": "display_data"
    }
   ],
   "source": [
    "normal_form = pd.read_csv('1NF data.csv')"
   ]
  },
  {
   "cell_type": "code",
   "execution_count": null,
   "id": "88bfcf4e",
   "metadata": {},
   "outputs": [],
   "source": []
  },
  {
   "cell_type": "code",
   "execution_count": 12,
   "id": "75e88bce",
   "metadata": {
    "scrolled": true
   },
   "outputs": [
    {
     "data": {
      "text/html": [
       "<div>\n",
       "<style scoped>\n",
       "    .dataframe tbody tr th:only-of-type {\n",
       "        vertical-align: middle;\n",
       "    }\n",
       "\n",
       "    .dataframe tbody tr th {\n",
       "        vertical-align: top;\n",
       "    }\n",
       "\n",
       "    .dataframe thead th {\n",
       "        text-align: right;\n",
       "    }\n",
       "</style>\n",
       "<table border=\"1\" class=\"dataframe\">\n",
       "  <thead>\n",
       "    <tr style=\"text-align: right;\">\n",
       "      <th></th>\n",
       "      <th>Restaurant_ID</th>\n",
       "      <th>Restaurant_Name</th>\n",
       "      <th>restaurant_link</th>\n",
       "      <th>cusine</th>\n",
       "      <th>Location</th>\n",
       "      <th>Latitude</th>\n",
       "      <th>Longitude</th>\n",
       "      <th>delivery_review_number</th>\n",
       "      <th>Rating</th>\n",
       "      <th>price_for_one</th>\n",
       "    </tr>\n",
       "  </thead>\n",
       "  <tbody>\n",
       "    <tr>\n",
       "      <th>0</th>\n",
       "      <td>1</td>\n",
       "      <td>Ovenstory Pizza</td>\n",
       "      <td>https://www.zomato.com/bangalore/ovenstory-piz...</td>\n",
       "      <td>Pizza</td>\n",
       "      <td>Indiranagar</td>\n",
       "      <td>12.978170</td>\n",
       "      <td>77.638321</td>\n",
       "      <td>5111</td>\n",
       "      <td>4.3</td>\n",
       "      <td>₹ 300</td>\n",
       "    </tr>\n",
       "    <tr>\n",
       "      <th>1</th>\n",
       "      <td>1</td>\n",
       "      <td>Ovenstory Pizza</td>\n",
       "      <td>https://www.zomato.com/bangalore/ovenstory-piz...</td>\n",
       "      <td>Fast Food</td>\n",
       "      <td>Indiranagar</td>\n",
       "      <td>12.978170</td>\n",
       "      <td>77.638321</td>\n",
       "      <td>5111</td>\n",
       "      <td>4.3</td>\n",
       "      <td>₹ 300</td>\n",
       "    </tr>\n",
       "    <tr>\n",
       "      <th>2</th>\n",
       "      <td>2</td>\n",
       "      <td>Empire Restaurant</td>\n",
       "      <td>https://www.zomato.com/bangalore/empire-restau...</td>\n",
       "      <td>North Indian</td>\n",
       "      <td>Brigade Road</td>\n",
       "      <td>12.967272</td>\n",
       "      <td>77.608978</td>\n",
       "      <td>3587</td>\n",
       "      <td>4.0</td>\n",
       "      <td>₹ 300</td>\n",
       "    </tr>\n",
       "    <tr>\n",
       "      <th>3</th>\n",
       "      <td>2</td>\n",
       "      <td>Empire Restaurant</td>\n",
       "      <td>https://www.zomato.com/bangalore/empire-restau...</td>\n",
       "      <td>Biryani</td>\n",
       "      <td>Brigade Road</td>\n",
       "      <td>12.967272</td>\n",
       "      <td>77.608978</td>\n",
       "      <td>3587</td>\n",
       "      <td>4.0</td>\n",
       "      <td>₹ 300</td>\n",
       "    </tr>\n",
       "    <tr>\n",
       "      <th>4</th>\n",
       "      <td>2</td>\n",
       "      <td>Empire Restaurant</td>\n",
       "      <td>https://www.zomato.com/bangalore/empire-restau...</td>\n",
       "      <td>Kebab</td>\n",
       "      <td>Brigade Road</td>\n",
       "      <td>12.967272</td>\n",
       "      <td>77.608978</td>\n",
       "      <td>3587</td>\n",
       "      <td>4.0</td>\n",
       "      <td>₹ 300</td>\n",
       "    </tr>\n",
       "  </tbody>\n",
       "</table>\n",
       "</div>"
      ],
      "text/plain": [
       "   Restaurant_ID    Restaurant_Name  \\\n",
       "0              1    Ovenstory Pizza   \n",
       "1              1    Ovenstory Pizza   \n",
       "2              2  Empire Restaurant   \n",
       "3              2  Empire Restaurant   \n",
       "4              2  Empire Restaurant   \n",
       "\n",
       "                                     restaurant_link        cusine  \\\n",
       "0  https://www.zomato.com/bangalore/ovenstory-piz...         Pizza   \n",
       "1  https://www.zomato.com/bangalore/ovenstory-piz...     Fast Food   \n",
       "2  https://www.zomato.com/bangalore/empire-restau...  North Indian   \n",
       "3  https://www.zomato.com/bangalore/empire-restau...       Biryani   \n",
       "4  https://www.zomato.com/bangalore/empire-restau...         Kebab   \n",
       "\n",
       "       Location   Latitude  Longitude  delivery_review_number  Rating  \\\n",
       "0   Indiranagar  12.978170  77.638321                    5111     4.3   \n",
       "1   Indiranagar  12.978170  77.638321                    5111     4.3   \n",
       "2  Brigade Road  12.967272  77.608978                    3587     4.0   \n",
       "3  Brigade Road  12.967272  77.608978                    3587     4.0   \n",
       "4  Brigade Road  12.967272  77.608978                    3587     4.0   \n",
       "\n",
       "  price_for_one  \n",
       "0         ₹ 300  \n",
       "1         ₹ 300  \n",
       "2         ₹ 300  \n",
       "3         ₹ 300  \n",
       "4         ₹ 300  "
      ]
     },
     "execution_count": 12,
     "metadata": {},
     "output_type": "execute_result"
    }
   ],
   "source": [
    "normal_form.head()"
   ]
  },
  {
   "cell_type": "code",
   "execution_count": null,
   "id": "c82063c6",
   "metadata": {},
   "outputs": [],
   "source": []
  },
  {
   "cell_type": "code",
   "execution_count": 13,
   "id": "fd96d6cd",
   "metadata": {},
   "outputs": [],
   "source": [
    "normal_form['cusine'] = normal_form['cusine'].astype(str).apply(lambda x : cus(x))\n",
    "normal_form['Location'] = normal_form['Location'].astype(str).apply(lambda x : cus(x))"
   ]
  },
  {
   "cell_type": "code",
   "execution_count": null,
   "id": "641195c7",
   "metadata": {},
   "outputs": [],
   "source": []
  },
  {
   "cell_type": "code",
   "execution_count": 14,
   "id": "903439ae",
   "metadata": {},
   "outputs": [],
   "source": [
    "normal_form.to_csv('normal_form.csv',index=False)"
   ]
  }
 ],
 "metadata": {
  "kernelspec": {
   "display_name": "Python 3 (ipykernel)",
   "language": "python",
   "name": "python3"
  },
  "language_info": {
   "codemirror_mode": {
    "name": "ipython",
    "version": 3
   },
   "file_extension": ".py",
   "mimetype": "text/x-python",
   "name": "python",
   "nbconvert_exporter": "python",
   "pygments_lexer": "ipython3",
   "version": "3.9.7"
  }
 },
 "nbformat": 4,
 "nbformat_minor": 5
}
